{
 "cells": [
  {
   "cell_type": "code",
   "execution_count": 1,
   "metadata": {},
   "outputs": [],
   "source": [
    "from PIL import Image\n",
    "import numpy as np"
   ]
  },
  {
   "cell_type": "code",
   "execution_count": null,
   "metadata": {},
   "outputs": [],
   "source": [
    "original_image = np.array(Image.open(\"./images/cat.png\"))\n",
    "\n",
    "# An array to store the arrays a, b and c\n",
    "n = np.empty(3, dtype=object)\n",
    "\n",
    "print(\"Put three numbers to define the arrays size: \")\n",
    "\n",
    "for i in range(len(n)):\n",
    "    array_size = int(input())\n",
    "    n[i] = np.linspace(0, 255, num=array_size, dtype=int)\n",
    "    \n",
    "    # Print test\n",
    "    print(n[i])\n",
    "\n",
    "modified_rgb_band = np.array(np.meshgrid(n[0], n[1], n[2])).T.reshape(-1, 3)\n",
    "\n",
    "# Print test\n",
    "print(modified_rgb_band)"
   ]
  },
  {
   "cell_type": "code",
   "execution_count": null,
   "metadata": {},
   "outputs": [],
   "source": []
  }
 ],
 "metadata": {
  "kernelspec": {
   "display_name": "Python 3",
   "language": "python",
   "name": "python3"
  },
  "language_info": {
   "codemirror_mode": {
    "name": "ipython",
    "version": 3
   },
   "file_extension": ".py",
   "mimetype": "text/x-python",
   "name": "python",
   "nbconvert_exporter": "python",
   "pygments_lexer": "ipython3",
   "version": "3.6.4"
  }
 },
 "nbformat": 4,
 "nbformat_minor": 2
}
